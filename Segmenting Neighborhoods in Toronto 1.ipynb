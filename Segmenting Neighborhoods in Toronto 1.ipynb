{
    "nbformat_minor": 1, 
    "cells": [
        {
            "execution_count": 31, 
            "cell_type": "code", 
            "metadata": {}, 
            "outputs": [], 
            "source": "from bs4 import BeautifulSoup\nimport requests\nimport pandas as pd"
        }, 
        {
            "source": "### The next two cells are just to set up the creation of the table. I get the source of the table using the requests package and then just get the headings.", 
            "cell_type": "markdown", 
            "metadata": {}
        }, 
        {
            "execution_count": 38, 
            "cell_type": "code", 
            "metadata": {}, 
            "outputs": [], 
            "source": "source = requests.get('https://en.wikipedia.org/wiki/List_of_postal_codes_of_Canada:_M').text\nsoup = BeautifulSoup(source, 'lxml')"
        }, 
        {
            "execution_count": 39, 
            "cell_type": "code", 
            "metadata": {}, 
            "outputs": [
                {
                    "output_type": "stream", 
                    "name": "stdout", 
                    "text": "['Postcode', 'Borough', 'Neighbourhood']\n"
                }
            ], 
            "source": "mytable = soup.find('table')\nths = mytable.find_all('th')\nheadings = [th.text.strip() for th in ths]\nprint(headings)"
        }, 
        {
            "source": "### First, I get all of the text by stripping it out of the HTML.\n### Then, I initialize some lists and fill them with values depending on what the index is, since the \"entries\" has a whole row in groups of 3. If any of the post codes and borough pairs are the same, then I append the second neighborhood onto the first and remove the second's row.\n### Once I have the lists, I create a data frame and then filter it to remove any Borough that is Not Assigned.", 
            "cell_type": "markdown", 
            "metadata": {}
        }, 
        {
            "execution_count": 51, 
            "cell_type": "code", 
            "metadata": {}, 
            "outputs": [
                {
                    "execution_count": 51, 
                    "metadata": {}, 
                    "data": {
                        "text/html": "<div>\n<style scoped>\n    .dataframe tbody tr th:only-of-type {\n        vertical-align: middle;\n    }\n\n    .dataframe tbody tr th {\n        vertical-align: top;\n    }\n\n    .dataframe thead th {\n        text-align: right;\n    }\n</style>\n<table border=\"1\" class=\"dataframe\">\n  <thead>\n    <tr style=\"text-align: right;\">\n      <th></th>\n      <th>Postcode</th>\n      <th>Borough</th>\n      <th>Neighbourhood</th>\n    </tr>\n  </thead>\n  <tbody>\n    <tr>\n      <th>1</th>\n      <td>M4A</td>\n      <td>North York</td>\n      <td>Victoria Village</td>\n    </tr>\n    <tr>\n      <th>2</th>\n      <td>M5A</td>\n      <td>Downtown Toronto</td>\n      <td>Regent Park</td>\n    </tr>\n    <tr>\n      <th>3</th>\n      <td>M6A</td>\n      <td>North York</td>\n      <td>Lawrence Manor</td>\n    </tr>\n    <tr>\n      <th>5</th>\n      <td>M1B</td>\n      <td>Scarborough</td>\n      <td>Rouge, Malvern</td>\n    </tr>\n    <tr>\n      <th>6</th>\n      <td>M3B</td>\n      <td>North York</td>\n      <td>Don Mills North</td>\n    </tr>\n    <tr>\n      <th>7</th>\n      <td>M4B</td>\n      <td>East York</td>\n      <td>Parkview Hill</td>\n    </tr>\n    <tr>\n      <th>8</th>\n      <td>M5B</td>\n      <td>Downtown Toronto</td>\n      <td>Garden District</td>\n    </tr>\n    <tr>\n      <th>10</th>\n      <td>M9B</td>\n      <td>Etobicoke</td>\n      <td>Martin Grove, Cloverdale, Islington, Princess ...</td>\n    </tr>\n    <tr>\n      <th>11</th>\n      <td>M1C</td>\n      <td>Scarborough</td>\n      <td>Port Union, Highland Creek, Rouge Hill</td>\n    </tr>\n    <tr>\n      <th>12</th>\n      <td>M3C</td>\n      <td>North York</td>\n      <td>Flemingdon Park, Don Mills South</td>\n    </tr>\n  </tbody>\n</table>\n</div>", 
                        "text/plain": "   Postcode           Borough  \\\n1       M4A        North York   \n2       M5A  Downtown Toronto   \n3       M6A        North York   \n5       M1B       Scarborough   \n6       M3B        North York   \n7       M4B         East York   \n8       M5B  Downtown Toronto   \n10      M9B         Etobicoke   \n11      M1C       Scarborough   \n12      M3C        North York   \n\n                                        Neighbourhood  \n1                                    Victoria Village  \n2                                         Regent Park  \n3                                      Lawrence Manor  \n5                                      Rouge, Malvern  \n6                                     Don Mills North  \n7                                       Parkview Hill  \n8                                     Garden District  \n10  Martin Grove, Cloverdale, Islington, Princess ...  \n11             Port Union, Highland Creek, Rouge Hill  \n12                   Flemingdon Park, Don Mills South  "
                    }, 
                    "output_type": "execute_result"
                }
            ], 
            "source": "tds = mytable.find_all('td')\nentries = [td.text.strip() for td in tds]\npost = []\nborough = []\nneighborhood = []\nfor i in range(0,len(entries)):\n    if i%3 == 0:\n               post.append(entries[i])\n    elif i%3 == 1:\n               borough.append(entries[i])\n    elif i%3 == 2:\n               neighborhood.append(entries[i])\n\nfor i in range(0,len(post)):\n    for j in range(0,len(post)):\n        try:\n            if post[i] == post[j] and borough[i] == borough[j]:\n                neighborhood[i] = neighborhood[i] + \", \" + neighborhood[j]\n                del post[j]\n                del borough[j]\n                del neighborhood[j]\n        except: pass\n\nwiki = pd.DataFrame({'Postcode':post,'Borough':borough,'Neighbourhood':neighborhood})\nwiki = wiki[wiki[\"Borough\"] != \"Not assigned\"]\nwiki.head(10)"
        }, 
        {
            "execution_count": 50, 
            "cell_type": "code", 
            "metadata": {}, 
            "outputs": [
                {
                    "execution_count": 50, 
                    "metadata": {}, 
                    "data": {
                        "text/plain": "(74, 3)"
                    }, 
                    "output_type": "execute_result"
                }
            ], 
            "source": "wiki.shape"
        }, 
        {
            "execution_count": null, 
            "cell_type": "code", 
            "metadata": {}, 
            "outputs": [], 
            "source": ""
        }
    ], 
    "metadata": {
        "kernelspec": {
            "display_name": "Python 3.6", 
            "name": "python3", 
            "language": "python"
        }, 
        "language_info": {
            "mimetype": "text/x-python", 
            "nbconvert_exporter": "python", 
            "version": "3.6.8", 
            "name": "python", 
            "file_extension": ".py", 
            "pygments_lexer": "ipython3", 
            "codemirror_mode": {
                "version": 3, 
                "name": "ipython"
            }
        }
    }, 
    "nbformat": 4
}