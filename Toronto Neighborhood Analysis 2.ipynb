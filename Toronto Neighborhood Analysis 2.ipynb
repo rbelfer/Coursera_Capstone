{
    "nbformat_minor": 1, 
    "cells": [
        {
            "execution_count": 1, 
            "cell_type": "code", 
            "metadata": {}, 
            "outputs": [
                {
                    "output_type": "stream", 
                    "name": "stdout", 
                    "text": "Done!\n"
                }
            ], 
            "source": "from bs4 import BeautifulSoup\nimport requests\nimport pandas as pd\nimport numpy as np\nimport matplotlib.cm as cm\nimport matplotlib.colors as colors\nfrom sklearn.cluster import KMeans\nprint(\"Done!\")"
        }, 
        {
            "execution_count": null, 
            "cell_type": "code", 
            "metadata": {}, 
            "outputs": [], 
            "source": "from pandas.io.json import json_normalize\n!conda install -c conda-forge folium=0.5.0 --yes # uncomment this line if you haven't completed the Foursquare API lab\nimport folium\n!conda install -c conda-forge geopy --yes # uncomment this line if you haven't completed the Foursquare API lab\nfrom geopy.geocoders import Nominatim"
        }, 
        {
            "execution_count": 2, 
            "cell_type": "code", 
            "metadata": {}, 
            "outputs": [], 
            "source": "source = requests.get('https://en.wikipedia.org/wiki/List_of_postal_codes_of_Canada:_M').text\nsoup = BeautifulSoup(source, 'lxml')"
        }, 
        {
            "source": "## Below, I have stripped the td table elements to get the values, put them into 3 separate lists, and then put them into a data frame (not before changing the Neighborhood to match the Borough if the Neighborhood has a value but Borough does not).\n\n## I then removed the Not Assigned Borough rows and then did a self join on the list of Neighborhoods made after grouping them. ", 
            "cell_type": "markdown", 
            "metadata": {}
        }, 
        {
            "execution_count": 88, 
            "cell_type": "code", 
            "metadata": {}, 
            "outputs": [
                {
                    "output_type": "stream", 
                    "name": "stdout", 
                    "text": "  Postcode      Borough                                  Neighbourhood\n0      M1B  Scarborough                                  Rouge,Malvern\n1      M1C  Scarborough           Highland Creek,Rouge Hill,Port Union\n2      M1E  Scarborough                Guildwood,Morningside,West Hill\n3      M1G  Scarborough                                         Woburn\n4      M1H  Scarborough                                      Cedarbrae\n5      M1J  Scarborough                            Scarborough Village\n6      M1K  Scarborough      East Birchmount Park,Ionview,Kennedy Park\n7      M1L  Scarborough                  Clairlea,Golden Mile,Oakridge\n8      M1M  Scarborough  Cliffcrest,Cliffside,Scarborough Village West\n9      M1N  Scarborough                     Birch Cliff,Cliffside West\n"
                }, 
                {
                    "execution_count": 88, 
                    "metadata": {}, 
                    "data": {
                        "text/plain": "(103, 3)"
                    }, 
                    "output_type": "execute_result"
                }
            ], 
            "source": "mytable = soup.find('table')\ntds = mytable.find_all('td')\nentries = [td.text.strip() for td in tds]\npost = []\nborough = []\nneighborhood = []\nfor i in range(0,len(entries)):\n    if i%3 == 0:\n               post.append(entries[i])\n    elif i%3 == 1:\n               borough.append(entries[i])\n    elif i%3 == 2:\n               neighborhood.append(entries[i])\nfor i in range(0,len(post)-1):\n    if borough[i] != \"Not assigned\" and neighborhood[i] == \"Not assigned\":\n        neighborhood[i] = borough[i]\nwiki = pd.DataFrame({'Postcode':post,'Borough':borough,'Neighbourhood':neighborhood})\nwiki = wiki[wiki[\"Borough\"] != \"Not assigned\"]\nwikijoin = pd.DataFrame(wiki.groupby(['Postcode','Borough'])['Neighbourhood'].apply(','.join).reset_index())\nprint(wikijoin.head(10))\nwikijoin.shape"
        }, 
        {
            "source": "### There should be 103 unique Postcode-Borough combinations.", 
            "cell_type": "markdown", 
            "metadata": {}
        }, 
        {
            "execution_count": 74, 
            "cell_type": "code", 
            "metadata": {}, 
            "outputs": [], 
            "source": "geocodes = pd.read_csv('https://cocl.us/Geospatial_data')"
        }, 
        {
            "source": "## I decided to use the CSV since the geocodes package was not working. Below, I did a join by using the post codes as indices, then bringing it back as a named column", 
            "cell_type": "markdown", 
            "metadata": {}
        }, 
        {
            "execution_count": 89, 
            "cell_type": "code", 
            "metadata": {}, 
            "outputs": [
                {
                    "execution_count": 89, 
                    "metadata": {}, 
                    "data": {
                        "text/html": "<div>\n<style scoped>\n    .dataframe tbody tr th:only-of-type {\n        vertical-align: middle;\n    }\n\n    .dataframe tbody tr th {\n        vertical-align: top;\n    }\n\n    .dataframe thead th {\n        text-align: right;\n    }\n</style>\n<table border=\"1\" class=\"dataframe\">\n  <thead>\n    <tr style=\"text-align: right;\">\n      <th></th>\n      <th>Postcode</th>\n      <th>Borough</th>\n      <th>Neighbourhood</th>\n      <th>Latitude</th>\n      <th>Longitude</th>\n    </tr>\n  </thead>\n  <tbody>\n    <tr>\n      <th>0</th>\n      <td>M1B</td>\n      <td>Scarborough</td>\n      <td>Rouge,Malvern</td>\n      <td>43.806686</td>\n      <td>-79.194353</td>\n    </tr>\n    <tr>\n      <th>1</th>\n      <td>M1C</td>\n      <td>Scarborough</td>\n      <td>Highland Creek,Rouge Hill,Port Union</td>\n      <td>43.784535</td>\n      <td>-79.160497</td>\n    </tr>\n    <tr>\n      <th>2</th>\n      <td>M1E</td>\n      <td>Scarborough</td>\n      <td>Guildwood,Morningside,West Hill</td>\n      <td>43.763573</td>\n      <td>-79.188711</td>\n    </tr>\n    <tr>\n      <th>3</th>\n      <td>M1G</td>\n      <td>Scarborough</td>\n      <td>Woburn</td>\n      <td>43.770992</td>\n      <td>-79.216917</td>\n    </tr>\n    <tr>\n      <th>4</th>\n      <td>M1H</td>\n      <td>Scarborough</td>\n      <td>Cedarbrae</td>\n      <td>43.773136</td>\n      <td>-79.239476</td>\n    </tr>\n    <tr>\n      <th>5</th>\n      <td>M1J</td>\n      <td>Scarborough</td>\n      <td>Scarborough Village</td>\n      <td>43.744734</td>\n      <td>-79.239476</td>\n    </tr>\n    <tr>\n      <th>6</th>\n      <td>M1K</td>\n      <td>Scarborough</td>\n      <td>East Birchmount Park,Ionview,Kennedy Park</td>\n      <td>43.727929</td>\n      <td>-79.262029</td>\n    </tr>\n    <tr>\n      <th>7</th>\n      <td>M1L</td>\n      <td>Scarborough</td>\n      <td>Clairlea,Golden Mile,Oakridge</td>\n      <td>43.711112</td>\n      <td>-79.284577</td>\n    </tr>\n    <tr>\n      <th>8</th>\n      <td>M1M</td>\n      <td>Scarborough</td>\n      <td>Cliffcrest,Cliffside,Scarborough Village West</td>\n      <td>43.716316</td>\n      <td>-79.239476</td>\n    </tr>\n    <tr>\n      <th>9</th>\n      <td>M1N</td>\n      <td>Scarborough</td>\n      <td>Birch Cliff,Cliffside West</td>\n      <td>43.692657</td>\n      <td>-79.264848</td>\n    </tr>\n  </tbody>\n</table>\n</div>", 
                        "text/plain": "  Postcode      Borough                                  Neighbourhood  \\\n0      M1B  Scarborough                                  Rouge,Malvern   \n1      M1C  Scarborough           Highland Creek,Rouge Hill,Port Union   \n2      M1E  Scarborough                Guildwood,Morningside,West Hill   \n3      M1G  Scarborough                                         Woburn   \n4      M1H  Scarborough                                      Cedarbrae   \n5      M1J  Scarborough                            Scarborough Village   \n6      M1K  Scarborough      East Birchmount Park,Ionview,Kennedy Park   \n7      M1L  Scarborough                  Clairlea,Golden Mile,Oakridge   \n8      M1M  Scarborough  Cliffcrest,Cliffside,Scarborough Village West   \n9      M1N  Scarborough                     Birch Cliff,Cliffside West   \n\n    Latitude  Longitude  \n0  43.806686 -79.194353  \n1  43.784535 -79.160497  \n2  43.763573 -79.188711  \n3  43.770992 -79.216917  \n4  43.773136 -79.239476  \n5  43.744734 -79.239476  \n6  43.727929 -79.262029  \n7  43.711112 -79.284577  \n8  43.716316 -79.239476  \n9  43.692657 -79.264848  "
                    }, 
                    "output_type": "execute_result"
                }
            ], 
            "source": "wikijoin = wikijoin.set_index(\"Postcode\")\nwikijoin = wikijoin.join(geocodes.set_index(\"Postal Code\"))\nwikijoin = wikijoin.reset_index()\nwikijoin.rename(columns={\"index\":\"Postcode\"}, inplace=True)\nwikijoin.head(10)"
        }, 
        {
            "execution_count": null, 
            "cell_type": "code", 
            "metadata": {}, 
            "outputs": [], 
            "source": ""
        }
    ], 
    "metadata": {
        "kernelspec": {
            "display_name": "Python 3.6", 
            "name": "python3", 
            "language": "python"
        }, 
        "language_info": {
            "mimetype": "text/x-python", 
            "nbconvert_exporter": "python", 
            "version": "3.6.8", 
            "name": "python", 
            "file_extension": ".py", 
            "pygments_lexer": "ipython3", 
            "codemirror_mode": {
                "version": 3, 
                "name": "ipython"
            }
        }
    }, 
    "nbformat": 4
}